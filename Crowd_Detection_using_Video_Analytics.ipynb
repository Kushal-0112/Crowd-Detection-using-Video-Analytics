{
  "cells": [
    {
      "cell_type": "markdown",
      "metadata": {
        "id": "view-in-github",
        "colab_type": "text"
      },
      "source": [
        "<a href=\"https://colab.research.google.com/github/Kushal-0112/Crowd-Detection-using-Video-Analytics/blob/main/Crowd_Detection_using_Video_Analytics.ipynb\" target=\"_parent\"><img src=\"https://colab.research.google.com/assets/colab-badge.svg\" alt=\"Open In Colab\"/></a>"
      ]
    },
    {
      "cell_type": "markdown",
      "metadata": {
        "id": "0yBYlgfqlYlG"
      },
      "source": [
        "# **Setting up the variable values**"
      ]
    },
    {
      "cell_type": "code",
      "execution_count": null,
      "metadata": {
        "colab": {
          "base_uri": "https://localhost:8080/"
        },
        "id": "mtcPQRVRn_-w",
        "outputId": "ed93e528-79b4-48ab-d6ea-4dfe4a36c41e"
      },
      "outputs": [
        {
          "name": "stdout",
          "output_type": "stream",
          "text": [
            "Mounted at /content/drive\n"
          ]
        }
      ],
      "source": [
        "from google.colab import drive\n",
        "drive.mount('/content/drive')"
      ]
    },
    {
      "cell_type": "code",
      "execution_count": null,
      "metadata": {
        "id": "kPXOB1zJhPKQ"
      },
      "outputs": [],
      "source": [
        "MIN_CONF = 0.3\n",
        "NMS_THRESH = 0.3\n",
        "\n",
        "# define the minimum safe distance (in pixels) that two people can be from each other\n",
        "MIN_DISTANCE = 50"
      ]
    },
    {
      "cell_type": "markdown",
      "metadata": {
        "id": "Mefw6DVRlyuQ"
      },
      "source": [
        "# **Creating the People Detection Function**"
      ]
    },
    {
      "cell_type": "code",
      "execution_count": null,
      "metadata": {
        "id": "iQgUUsQRhqoA"
      },
      "outputs": [],
      "source": [
        "import numpy as np\n",
        "import cv2\n",
        "\n",
        "def detect_people(frame, net, ln, personIdx=0):\n",
        "\t(H, W) = frame.shape[:2]\n",
        "\tresults = []\n",
        "\n",
        "\tblob = cv2.dnn.blobFromImage(frame, 1 / 255.0, (416, 416),\n",
        "\t\tswapRB=True, crop=False)\n",
        "\tnet.setInput(blob)\n",
        "\tlayerOutputs = net.forward(ln)\n",
        "\n",
        "\tboxes = []\n",
        "\tcentroids = []\n",
        "\tconfidences = []\n",
        "\n",
        "\tfor output in layerOutputs:\n",
        "\t\tfor detection in output:\n",
        "\n",
        "\t\t\tscores = detection[5:]\n",
        "\t\t\tclassID = np.argmax(scores)\n",
        "\t\t\tconfidence = scores[classID]\n",
        "\n",
        "\t\t\tif classID == personIdx and confidence > MIN_CONF:\n",
        "\n",
        "\t\t\t\tbox = detection[0:4] * np.array([W, H, W, H])\n",
        "\t\t\t\t(centerX, centerY, width, height) = box.astype(\"int\")\n",
        "\n",
        "\t\t\t\tx = int(centerX - (width / 2))\n",
        "\t\t\t\ty = int(centerY - (height / 2))\n",
        "\n",
        "\t\t\t\tboxes.append([x, y, int(width), int(height)])\n",
        "\t\t\t\tcentroids.append((centerX, centerY))\n",
        "\t\t\t\tconfidences.append(float(confidence))\n",
        "\n",
        "\tidxs = cv2.dnn.NMSBoxes(boxes, confidences, MIN_CONF, NMS_THRESH)\n",
        "\n",
        "\n",
        "\tif len(idxs) > 0:\n",
        "\t\tfor i in idxs.flatten():\n",
        "\t\t\t# extract the bounding box coordinates\n",
        "\t\t\t(x, y) = (boxes[i][0], boxes[i][1])\n",
        "\t\t\t(w, h) = (boxes[i][2], boxes[i][3])\n",
        "\t\t\tr = (confidences[i], (x, y, x + w, y + h), centroids[i])\n",
        "\t\t\tresults.append(r)\n",
        "\n",
        "\treturn results"
      ]
    },
    {
      "cell_type": "markdown",
      "metadata": {
        "id": "NHLWA1WTmBlE"
      },
      "source": [
        "# **Grabing frames from video and make prediction measuring distances of detected people**"
      ]
    },
    {
      "cell_type": "code",
      "execution_count": null,
      "metadata": {
        "colab": {
          "background_save": true
        },
        "id": "DMWw6mhGHj7S"
      },
      "outputs": [],
      "source": [
        "from google.colab.patches import cv2_imshow\n",
        "from scipy.spatial import distance as dist\n",
        "import numpy as np\n",
        "import argparse\n",
        "import imutils\n",
        "import cv2\n",
        "import os\n",
        "\n",
        "ap = argparse.ArgumentParser()\n",
        "ap.add_argument(\"-i\", \"--input\", type=str, default=\"\",\n",
        "\thelp=\"path to (optional) input video file\")\n",
        "ap.add_argument(\"-o\", \"--output\", type=str, default=\"\",\n",
        "\thelp=\"path to (optional) output video file\")\n",
        "ap.add_argument(\"-d\", \"--display\", type=int, default=1,\n",
        "\thelp=\"whether or not output frame should be displayed\")\n",
        "args = vars(ap.parse_args([\"--input\",\"/content/drive/MyDrive/New folder (3)/trim.mp4\",\"--output\",\"my_output.avi\",\"--display\",\"1\"]))\n",
        "\n",
        "labelsPath = os.path.sep.join([\"/content/drive/MyDrive/New folder (3)/yolo-coco/coco.names\"])\n",
        "LABELS = open(labelsPath).read().strip().split(\"\\n\")\n",
        "\n",
        "weightsPath = os.path.sep.join([\"/content/drive/MyDrive/New folder (3)/yolov3.weights\"])\n",
        "configPath = os.path.sep.join([\"/content/drive/MyDrive/New folder (3)/yolo-coco/yolov3.cfg\"])\n",
        "\n",
        "print(\"[INFO] loading YOLO from disk...\")\n",
        "net = cv2.dnn.readNetFromDarknet(configPath, weightsPath)\n",
        "\n",
        "# determine only the *output* layer names that we need from YOLO\n",
        "ln = net.getLayerNames()\n",
        "ln = [ln[i - 1] for i in net.getUnconnectedOutLayers()]\n",
        "\n",
        "print(\"[INFO] accessing video stream...\")\n",
        "vs = cv2.VideoCapture(args[\"input\"] if args[\"input\"] else 0)\n",
        "writer = None\n",
        "\n",
        "while True:\n",
        "\t(grabbed, frame) = vs.read()\n",
        "\t# if the frame was not grabbed, then we have reached the end of the stream\n",
        "\tif not grabbed:\n",
        "\t\tbreak\n",
        "\n",
        "\t# resize the frame and then detect people (and only people) in it\n",
        "\tframe = imutils.resize(frame, width=700)\n",
        "\tresults = detect_people(frame, net, ln,\n",
        "\t\tpersonIdx=LABELS.index(\"person\"))\n",
        "\n",
        "\tviolate = set()\n",
        "\tif len(results) >= 2:\n",
        "\t\tcentroids = np.array([r[2] for r in results])\n",
        "\t\tD = dist.cdist(centroids, centroids, metric=\"euclidean\")\n",
        "\n",
        "\t\tfor i in range(0, D.shape[0]):\n",
        "\t\t\tfor j in range(i + 1, D.shape[1]):\n",
        "\n",
        "\t\t\t\tif D[i, j] < MIN_DISTANCE:\n",
        "\n",
        "\t\t\t\t\tviolate.add(i)\n",
        "\t\t\t\t\tviolate.add(j)\n",
        "\n",
        "\tfor (i, (prob, bbox, centroid)) in enumerate(results):\n",
        "\n",
        "\t\t(startX, startY, endX, endY) = bbox\n",
        "\t\t(cX, cY) = centroid\n",
        "\t\tcolor = (0, 255, 0)\n",
        "\n",
        "\t\tif i in violate:\n",
        "\t\t\tcolor = (0, 0, 255)\n",
        "\n",
        "\t\tcv2.rectangle(frame, (startX, startY), (endX, endY), color, 2)\n",
        "\t\tcv2.circle(frame, (cX, cY), 5, color, 1)\n",
        "\n",
        "\ttext = \"Social Distancing Violations : {}\".format(len(violate))\n",
        "\tcv2.putText(frame, text, (10, frame.shape[0] - 25),\n",
        "\t\tcv2.FONT_HERSHEY_DUPLEX, 0.85, (255, 0, 0), 2)\n",
        "\n",
        "\tif args[\"display\"] > 0:\n",
        "\n",
        "\t\tcv2_imshow(frame)\n",
        "\t\tkey = cv2.waitKey(1) & 0xFF\n",
        "\t\tif key == ord(\"q\"):\n",
        "\t\t\tbreak\n",
        "\n",
        "\tif args[\"output\"] != \"\" and writer is None:\n",
        "\n",
        "\t\tfourcc = cv2.VideoWriter_fourcc(*'MJPG')\n",
        "\t\tout = cv2.VideoWriter('output.avi', fourcc, 20.0, (640, 480))\n",
        "\n",
        "\tif writer is not None:\n",
        "\t\twriter.write(frame)"
      ]
    }
  ],
  "metadata": {
    "accelerator": "GPU",
    "colab": {
      "collapsed_sections": [],
      "name": "Crowd Detection using Video Analytics",
      "provenance": [],
      "include_colab_link": true
    },
    "kernelspec": {
      "display_name": "Python 3",
      "name": "python3"
    }
  },
  "nbformat": 4,
  "nbformat_minor": 0
}
